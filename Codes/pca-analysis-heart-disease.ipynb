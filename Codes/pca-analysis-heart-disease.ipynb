{
 "cells": [
  {
   "cell_type": "markdown",
   "id": "b6a5beea",
   "metadata": {
    "papermill": {
     "duration": 0.008016,
     "end_time": "2023-04-25T18:26:30.203356",
     "exception": false,
     "start_time": "2023-04-25T18:26:30.195340",
     "status": "completed"
    },
    "tags": []
   },
   "source": [
    "# Principal Component Analysis"
   ]
  },
  {
   "cell_type": "code",
   "execution_count": 1,
   "id": "95034a46",
   "metadata": {
    "_cell_guid": "b1076dfc-b9ad-4769-8c92-a6c4dae69d19",
    "_uuid": "8f2839f25d086af736a60e9eeb907d3b93b6e0e5",
    "execution": {
     "iopub.execute_input": "2023-04-25T18:26:30.218820Z",
     "iopub.status.busy": "2023-04-25T18:26:30.218355Z",
     "iopub.status.idle": "2023-04-25T18:26:30.239563Z",
     "shell.execute_reply": "2023-04-25T18:26:30.238505Z"
    },
    "papermill": {
     "duration": 0.031775,
     "end_time": "2023-04-25T18:26:30.242014",
     "exception": false,
     "start_time": "2023-04-25T18:26:30.210239",
     "status": "completed"
    },
    "tags": []
   },
   "outputs": [
    {
     "name": "stdout",
     "output_type": "stream",
     "text": [
      "/kaggle/input/heart-disease-dataset/heart.csv\n"
     ]
    }
   ],
   "source": [
    "# This Python 3 environment comes with many helpful analytics libraries installed\n",
    "# It is defined by the kaggle/python Docker image: https://github.com/kaggle/docker-python\n",
    "# For example, here's several helpful packages to load\n",
    "\n",
    "import numpy as np # linear algebra\n",
    "import pandas as pd # data processing, CSV file I/O (e.g. pd.read_csv)\n",
    "\n",
    "# Input data files are available in the read-only \"../input/\" directory\n",
    "# For example, running this (by clicking run or pressing Shift+Enter) will list all files under the input directory\n",
    "\n",
    "import os\n",
    "for dirname, _, filenames in os.walk('/kaggle/input'):\n",
    "    for filename in filenames:\n",
    "        print(os.path.join(dirname, filename))\n",
    "\n",
    "# You can write up to 20GB to the current directory (/kaggle/working/) that gets preserved as output when you create a version using \"Save & Run All\" \n",
    "# You can also write temporary files to /kaggle/temp/, but they won't be saved outside of the current session"
   ]
  },
  {
   "cell_type": "code",
   "execution_count": 2,
   "id": "c05d8808",
   "metadata": {
    "execution": {
     "iopub.execute_input": "2023-04-25T18:26:30.258495Z",
     "iopub.status.busy": "2023-04-25T18:26:30.257546Z",
     "iopub.status.idle": "2023-04-25T18:26:30.302685Z",
     "shell.execute_reply": "2023-04-25T18:26:30.301467Z"
    },
    "papermill": {
     "duration": 0.055834,
     "end_time": "2023-04-25T18:26:30.305410",
     "exception": false,
     "start_time": "2023-04-25T18:26:30.249576",
     "status": "completed"
    },
    "tags": []
   },
   "outputs": [
    {
     "data": {
      "text/html": [
       "<div>\n",
       "<style scoped>\n",
       "    .dataframe tbody tr th:only-of-type {\n",
       "        vertical-align: middle;\n",
       "    }\n",
       "\n",
       "    .dataframe tbody tr th {\n",
       "        vertical-align: top;\n",
       "    }\n",
       "\n",
       "    .dataframe thead th {\n",
       "        text-align: right;\n",
       "    }\n",
       "</style>\n",
       "<table border=\"1\" class=\"dataframe\">\n",
       "  <thead>\n",
       "    <tr style=\"text-align: right;\">\n",
       "      <th></th>\n",
       "      <th>age</th>\n",
       "      <th>sex</th>\n",
       "      <th>cp</th>\n",
       "      <th>trestbps</th>\n",
       "      <th>chol</th>\n",
       "      <th>fbs</th>\n",
       "      <th>restecg</th>\n",
       "      <th>thalach</th>\n",
       "      <th>exang</th>\n",
       "      <th>oldpeak</th>\n",
       "      <th>slope</th>\n",
       "      <th>ca</th>\n",
       "      <th>thal</th>\n",
       "      <th>target</th>\n",
       "    </tr>\n",
       "  </thead>\n",
       "  <tbody>\n",
       "    <tr>\n",
       "      <th>0</th>\n",
       "      <td>52</td>\n",
       "      <td>1</td>\n",
       "      <td>0</td>\n",
       "      <td>125</td>\n",
       "      <td>212</td>\n",
       "      <td>0</td>\n",
       "      <td>1</td>\n",
       "      <td>168</td>\n",
       "      <td>0</td>\n",
       "      <td>1.0</td>\n",
       "      <td>2</td>\n",
       "      <td>2</td>\n",
       "      <td>3</td>\n",
       "      <td>0</td>\n",
       "    </tr>\n",
       "    <tr>\n",
       "      <th>1</th>\n",
       "      <td>53</td>\n",
       "      <td>1</td>\n",
       "      <td>0</td>\n",
       "      <td>140</td>\n",
       "      <td>203</td>\n",
       "      <td>1</td>\n",
       "      <td>0</td>\n",
       "      <td>155</td>\n",
       "      <td>1</td>\n",
       "      <td>3.1</td>\n",
       "      <td>0</td>\n",
       "      <td>0</td>\n",
       "      <td>3</td>\n",
       "      <td>0</td>\n",
       "    </tr>\n",
       "    <tr>\n",
       "      <th>2</th>\n",
       "      <td>70</td>\n",
       "      <td>1</td>\n",
       "      <td>0</td>\n",
       "      <td>145</td>\n",
       "      <td>174</td>\n",
       "      <td>0</td>\n",
       "      <td>1</td>\n",
       "      <td>125</td>\n",
       "      <td>1</td>\n",
       "      <td>2.6</td>\n",
       "      <td>0</td>\n",
       "      <td>0</td>\n",
       "      <td>3</td>\n",
       "      <td>0</td>\n",
       "    </tr>\n",
       "    <tr>\n",
       "      <th>3</th>\n",
       "      <td>61</td>\n",
       "      <td>1</td>\n",
       "      <td>0</td>\n",
       "      <td>148</td>\n",
       "      <td>203</td>\n",
       "      <td>0</td>\n",
       "      <td>1</td>\n",
       "      <td>161</td>\n",
       "      <td>0</td>\n",
       "      <td>0.0</td>\n",
       "      <td>2</td>\n",
       "      <td>1</td>\n",
       "      <td>3</td>\n",
       "      <td>0</td>\n",
       "    </tr>\n",
       "    <tr>\n",
       "      <th>4</th>\n",
       "      <td>62</td>\n",
       "      <td>0</td>\n",
       "      <td>0</td>\n",
       "      <td>138</td>\n",
       "      <td>294</td>\n",
       "      <td>1</td>\n",
       "      <td>1</td>\n",
       "      <td>106</td>\n",
       "      <td>0</td>\n",
       "      <td>1.9</td>\n",
       "      <td>1</td>\n",
       "      <td>3</td>\n",
       "      <td>2</td>\n",
       "      <td>0</td>\n",
       "    </tr>\n",
       "  </tbody>\n",
       "</table>\n",
       "</div>"
      ],
      "text/plain": [
       "   age  sex  cp  trestbps  chol  fbs  restecg  thalach  exang  oldpeak  slope  \\\n",
       "0   52    1   0       125   212    0        1      168      0      1.0      2   \n",
       "1   53    1   0       140   203    1        0      155      1      3.1      0   \n",
       "2   70    1   0       145   174    0        1      125      1      2.6      0   \n",
       "3   61    1   0       148   203    0        1      161      0      0.0      2   \n",
       "4   62    0   0       138   294    1        1      106      0      1.9      1   \n",
       "\n",
       "   ca  thal  target  \n",
       "0   2     3       0  \n",
       "1   0     3       0  \n",
       "2   0     3       0  \n",
       "3   1     3       0  \n",
       "4   3     2       0  "
      ]
     },
     "execution_count": 2,
     "metadata": {},
     "output_type": "execute_result"
    }
   ],
   "source": [
    "dataset = pd.read_csv('/kaggle/input/heart-disease-dataset/heart.csv')\n",
    "dataset.head(5)"
   ]
  },
  {
   "cell_type": "code",
   "execution_count": 3,
   "id": "b6453bd3",
   "metadata": {
    "execution": {
     "iopub.execute_input": "2023-04-25T18:26:30.322638Z",
     "iopub.status.busy": "2023-04-25T18:26:30.321442Z",
     "iopub.status.idle": "2023-04-25T18:26:30.334594Z",
     "shell.execute_reply": "2023-04-25T18:26:30.333129Z"
    },
    "papermill": {
     "duration": 0.024699,
     "end_time": "2023-04-25T18:26:30.337184",
     "exception": false,
     "start_time": "2023-04-25T18:26:30.312485",
     "status": "completed"
    },
    "tags": []
   },
   "outputs": [],
   "source": [
    "X = dataset.drop(columns=['target'],axis = 1)\n",
    "Y = dataset['target']"
   ]
  },
  {
   "cell_type": "code",
   "execution_count": 4,
   "id": "6eafd246",
   "metadata": {
    "execution": {
     "iopub.execute_input": "2023-04-25T18:26:30.353230Z",
     "iopub.status.busy": "2023-04-25T18:26:30.352802Z",
     "iopub.status.idle": "2023-04-25T18:26:31.421604Z",
     "shell.execute_reply": "2023-04-25T18:26:31.420073Z"
    },
    "papermill": {
     "duration": 1.080139,
     "end_time": "2023-04-25T18:26:31.424478",
     "exception": false,
     "start_time": "2023-04-25T18:26:30.344339",
     "status": "completed"
    },
    "tags": []
   },
   "outputs": [],
   "source": [
    "from sklearn.preprocessing import StandardScaler\n",
    "scaler = StandardScaler()\n",
    "X_scaled = scaler.fit_transform(X)"
   ]
  },
  {
   "cell_type": "code",
   "execution_count": 5,
   "id": "687a355a",
   "metadata": {
    "execution": {
     "iopub.execute_input": "2023-04-25T18:26:31.440918Z",
     "iopub.status.busy": "2023-04-25T18:26:31.440002Z",
     "iopub.status.idle": "2023-04-25T18:26:31.509756Z",
     "shell.execute_reply": "2023-04-25T18:26:31.508447Z"
    },
    "papermill": {
     "duration": 0.081011,
     "end_time": "2023-04-25T18:26:31.512678",
     "exception": false,
     "start_time": "2023-04-25T18:26:31.431667",
     "status": "completed"
    },
    "tags": []
   },
   "outputs": [],
   "source": [
    "from sklearn.model_selection import train_test_split"
   ]
  },
  {
   "cell_type": "code",
   "execution_count": 6,
   "id": "4bcadfaf",
   "metadata": {
    "execution": {
     "iopub.execute_input": "2023-04-25T18:26:31.528691Z",
     "iopub.status.busy": "2023-04-25T18:26:31.528216Z",
     "iopub.status.idle": "2023-04-25T18:26:31.536657Z",
     "shell.execute_reply": "2023-04-25T18:26:31.535655Z"
    },
    "papermill": {
     "duration": 0.019357,
     "end_time": "2023-04-25T18:26:31.538960",
     "exception": false,
     "start_time": "2023-04-25T18:26:31.519603",
     "status": "completed"
    },
    "tags": []
   },
   "outputs": [],
   "source": [
    "x_train,x_test,y_train,y_test = train_test_split(X_scaled,Y,test_size=0.2,random_state=10)"
   ]
  },
  {
   "cell_type": "code",
   "execution_count": 7,
   "id": "2299d82d",
   "metadata": {
    "execution": {
     "iopub.execute_input": "2023-04-25T18:26:31.555893Z",
     "iopub.status.busy": "2023-04-25T18:26:31.554661Z",
     "iopub.status.idle": "2023-04-25T18:26:31.561341Z",
     "shell.execute_reply": "2023-04-25T18:26:31.560440Z"
    },
    "papermill": {
     "duration": 0.017288,
     "end_time": "2023-04-25T18:26:31.563453",
     "exception": false,
     "start_time": "2023-04-25T18:26:31.546165",
     "status": "completed"
    },
    "tags": []
   },
   "outputs": [
    {
     "data": {
      "text/plain": [
       "(820, 13)"
      ]
     },
     "execution_count": 7,
     "metadata": {},
     "output_type": "execute_result"
    }
   ],
   "source": [
    "x_train.shape"
   ]
  },
  {
   "cell_type": "code",
   "execution_count": 8,
   "id": "cd0a1ffc",
   "metadata": {
    "execution": {
     "iopub.execute_input": "2023-04-25T18:26:31.580365Z",
     "iopub.status.busy": "2023-04-25T18:26:31.579958Z",
     "iopub.status.idle": "2023-04-25T18:26:31.587129Z",
     "shell.execute_reply": "2023-04-25T18:26:31.586119Z"
    },
    "papermill": {
     "duration": 0.018667,
     "end_time": "2023-04-25T18:26:31.589354",
     "exception": false,
     "start_time": "2023-04-25T18:26:31.570687",
     "status": "completed"
    },
    "tags": []
   },
   "outputs": [
    {
     "data": {
      "text/plain": [
       "(820,)"
      ]
     },
     "execution_count": 8,
     "metadata": {},
     "output_type": "execute_result"
    }
   ],
   "source": [
    "y_train.shape"
   ]
  },
  {
   "cell_type": "code",
   "execution_count": 9,
   "id": "2db93053",
   "metadata": {
    "execution": {
     "iopub.execute_input": "2023-04-25T18:26:31.607495Z",
     "iopub.status.busy": "2023-04-25T18:26:31.606825Z",
     "iopub.status.idle": "2023-04-25T18:26:31.729021Z",
     "shell.execute_reply": "2023-04-25T18:26:31.727922Z"
    },
    "papermill": {
     "duration": 0.134577,
     "end_time": "2023-04-25T18:26:31.731481",
     "exception": false,
     "start_time": "2023-04-25T18:26:31.596904",
     "status": "completed"
    },
    "tags": []
   },
   "outputs": [
    {
     "data": {
      "text/plain": [
       "SVC()"
      ]
     },
     "execution_count": 9,
     "metadata": {},
     "output_type": "execute_result"
    }
   ],
   "source": [
    "from sklearn.svm import SVC\n",
    "model = SVC()\n",
    "model.fit(x_train,y_train)"
   ]
  },
  {
   "cell_type": "code",
   "execution_count": 10,
   "id": "838660f7",
   "metadata": {
    "execution": {
     "iopub.execute_input": "2023-04-25T18:26:31.748798Z",
     "iopub.status.busy": "2023-04-25T18:26:31.748330Z",
     "iopub.status.idle": "2023-04-25T18:26:31.762196Z",
     "shell.execute_reply": "2023-04-25T18:26:31.760948Z"
    },
    "papermill": {
     "duration": 0.025599,
     "end_time": "2023-04-25T18:26:31.764783",
     "exception": false,
     "start_time": "2023-04-25T18:26:31.739184",
     "status": "completed"
    },
    "tags": []
   },
   "outputs": [
    {
     "name": "stdout",
     "output_type": "stream",
     "text": [
      "Accuracy with 13 features\n"
     ]
    },
    {
     "data": {
      "text/plain": [
       "0.8926829268292683"
      ]
     },
     "execution_count": 10,
     "metadata": {},
     "output_type": "execute_result"
    }
   ],
   "source": [
    "print('Accuracy with 13 features')\n",
    "model.score(x_test,y_test)"
   ]
  },
  {
   "cell_type": "code",
   "execution_count": 11,
   "id": "3413805b",
   "metadata": {
    "execution": {
     "iopub.execute_input": "2023-04-25T18:26:31.781927Z",
     "iopub.status.busy": "2023-04-25T18:26:31.781231Z",
     "iopub.status.idle": "2023-04-25T18:26:31.786088Z",
     "shell.execute_reply": "2023-04-25T18:26:31.784810Z"
    },
    "papermill": {
     "duration": 0.016246,
     "end_time": "2023-04-25T18:26:31.788375",
     "exception": false,
     "start_time": "2023-04-25T18:26:31.772129",
     "status": "completed"
    },
    "tags": []
   },
   "outputs": [],
   "source": [
    "del model"
   ]
  },
  {
   "cell_type": "markdown",
   "id": "0f2d5bed",
   "metadata": {
    "papermill": {
     "duration": 0.007098,
     "end_time": "2023-04-25T18:26:31.803004",
     "exception": false,
     "start_time": "2023-04-25T18:26:31.795906",
     "status": "completed"
    },
    "tags": []
   },
   "source": [
    "**Applying PCA**"
   ]
  },
  {
   "cell_type": "code",
   "execution_count": 12,
   "id": "9c717748",
   "metadata": {
    "execution": {
     "iopub.execute_input": "2023-04-25T18:26:31.820041Z",
     "iopub.status.busy": "2023-04-25T18:26:31.819490Z",
     "iopub.status.idle": "2023-04-25T18:26:31.877092Z",
     "shell.execute_reply": "2023-04-25T18:26:31.875792Z"
    },
    "papermill": {
     "duration": 0.069191,
     "end_time": "2023-04-25T18:26:31.879673",
     "exception": false,
     "start_time": "2023-04-25T18:26:31.810482",
     "status": "completed"
    },
    "tags": []
   },
   "outputs": [],
   "source": [
    "from sklearn.decomposition import PCA"
   ]
  },
  {
   "cell_type": "code",
   "execution_count": 13,
   "id": "6c88d864",
   "metadata": {
    "execution": {
     "iopub.execute_input": "2023-04-25T18:26:31.896983Z",
     "iopub.status.busy": "2023-04-25T18:26:31.896517Z",
     "iopub.status.idle": "2023-04-25T18:26:31.920262Z",
     "shell.execute_reply": "2023-04-25T18:26:31.918686Z"
    },
    "papermill": {
     "duration": 0.037432,
     "end_time": "2023-04-25T18:26:31.924908",
     "exception": false,
     "start_time": "2023-04-25T18:26:31.887476",
     "status": "completed"
    },
    "tags": []
   },
   "outputs": [],
   "source": [
    "pca = PCA().fit(x_train)"
   ]
  },
  {
   "cell_type": "code",
   "execution_count": 14,
   "id": "5a12442e",
   "metadata": {
    "execution": {
     "iopub.execute_input": "2023-04-25T18:26:31.955313Z",
     "iopub.status.busy": "2023-04-25T18:26:31.954637Z",
     "iopub.status.idle": "2023-04-25T18:26:32.239995Z",
     "shell.execute_reply": "2023-04-25T18:26:32.238780Z"
    },
    "papermill": {
     "duration": 0.303804,
     "end_time": "2023-04-25T18:26:32.242918",
     "exception": false,
     "start_time": "2023-04-25T18:26:31.939114",
     "status": "completed"
    },
    "tags": []
   },
   "outputs": [
    {
     "data": {
      "text/plain": [
       "Text(0, 0.5, 'Variance Metric')"
      ]
     },
     "execution_count": 14,
     "metadata": {},
     "output_type": "execute_result"
    },
    {
     "data": {
      "image/png": "[encoded data removed]",
      "text/plain": [
       "<Figure size 640x480 with 1 Axes>"
      ]
     },
     "metadata": {},
     "output_type": "display_data"
    }
   ],
   "source": [
    "import matplotlib.pyplot as plt\n",
    "plt.plot(np.cumsum(pca.explained_variance_ratio_))\n",
    "plt.xlabel('Number of features')\n",
    "plt.ylabel('Variance Metric')"
   ]
  },
  {
   "cell_type": "markdown",
   "id": "e1b3a938",
   "metadata": {
    "papermill": {
     "duration": 0.007772,
     "end_time": "2023-04-25T18:26:32.258962",
     "exception": false,
     "start_time": "2023-04-25T18:26:32.251190",
     "status": "completed"
    },
    "tags": []
   },
   "source": [
    "As we reduce number of features i.e columns, we are reducing the variance of the dataset which leads to lower accuracy of the model"
   ]
  },
  {
   "cell_type": "markdown",
   "id": "e07344ea",
   "metadata": {
    "papermill": {
     "duration": 0.007734,
     "end_time": "2023-04-25T18:26:32.274640",
     "exception": false,
     "start_time": "2023-04-25T18:26:32.266906",
     "status": "completed"
    },
    "tags": []
   },
   "source": [
    "selecting number of features as 9 as it will be maintaining about 90% variance of the dataset "
   ]
  },
  {
   "cell_type": "code",
   "execution_count": 15,
   "id": "339aab6b",
   "metadata": {
    "execution": {
     "iopub.execute_input": "2023-04-25T18:26:32.292685Z",
     "iopub.status.busy": "2023-04-25T18:26:32.292241Z",
     "iopub.status.idle": "2023-04-25T18:26:32.297310Z",
     "shell.execute_reply": "2023-04-25T18:26:32.296138Z"
    },
    "papermill": {
     "duration": 0.017001,
     "end_time": "2023-04-25T18:26:32.299573",
     "exception": false,
     "start_time": "2023-04-25T18:26:32.282572",
     "status": "completed"
    },
    "tags": []
   },
   "outputs": [],
   "source": [
    "pca = PCA(n_components = 9)"
   ]
  },
  {
   "cell_type": "code",
   "execution_count": 16,
   "id": "2bd0c0bb",
   "metadata": {
    "execution": {
     "iopub.execute_input": "2023-04-25T18:26:32.317902Z",
     "iopub.status.busy": "2023-04-25T18:26:32.317422Z",
     "iopub.status.idle": "2023-04-25T18:26:32.331267Z",
     "shell.execute_reply": "2023-04-25T18:26:32.329825Z"
    },
    "papermill": {
     "duration": 0.027289,
     "end_time": "2023-04-25T18:26:32.334927",
     "exception": false,
     "start_time": "2023-04-25T18:26:32.307638",
     "status": "completed"
    },
    "tags": []
   },
   "outputs": [],
   "source": [
    "pca_X = pca.fit_transform(X_scaled)"
   ]
  },
  {
   "cell_type": "code",
   "execution_count": 17,
   "id": "54c8ef59",
   "metadata": {
    "execution": {
     "iopub.execute_input": "2023-04-25T18:26:32.363814Z",
     "iopub.status.busy": "2023-04-25T18:26:32.363173Z",
     "iopub.status.idle": "2023-04-25T18:26:32.372540Z",
     "shell.execute_reply": "2023-04-25T18:26:32.371093Z"
    },
    "papermill": {
     "duration": 0.027647,
     "end_time": "2023-04-25T18:26:32.375889",
     "exception": false,
     "start_time": "2023-04-25T18:26:32.348242",
     "status": "completed"
    },
    "tags": []
   },
   "outputs": [],
   "source": [
    "x_train,x_test,y_train,y_test = train_test_split(pca_X,Y,test_size=0.2,random_state = 10)"
   ]
  },
  {
   "cell_type": "code",
   "execution_count": 18,
   "id": "a03f200d",
   "metadata": {
    "execution": {
     "iopub.execute_input": "2023-04-25T18:26:32.404915Z",
     "iopub.status.busy": "2023-04-25T18:26:32.404230Z",
     "iopub.status.idle": "2023-04-25T18:26:32.447625Z",
     "shell.execute_reply": "2023-04-25T18:26:32.446127Z"
    },
    "papermill": {
     "duration": 0.06113,
     "end_time": "2023-04-25T18:26:32.450331",
     "exception": false,
     "start_time": "2023-04-25T18:26:32.389201",
     "status": "completed"
    },
    "tags": []
   },
   "outputs": [
    {
     "data": {
      "text/plain": [
       "SVC()"
      ]
     },
     "execution_count": 18,
     "metadata": {},
     "output_type": "execute_result"
    }
   ],
   "source": [
    "from sklearn.svm import SVC\n",
    "model = SVC()\n",
    "model.fit(x_train,y_train)"
   ]
  },
  {
   "cell_type": "code",
   "execution_count": 19,
   "id": "4198726c",
   "metadata": {
    "execution": {
     "iopub.execute_input": "2023-04-25T18:26:32.468301Z",
     "iopub.status.busy": "2023-04-25T18:26:32.467861Z",
     "iopub.status.idle": "2023-04-25T18:26:32.480996Z",
     "shell.execute_reply": "2023-04-25T18:26:32.479809Z"
    },
    "papermill": {
     "duration": 0.024882,
     "end_time": "2023-04-25T18:26:32.483273",
     "exception": false,
     "start_time": "2023-04-25T18:26:32.458391",
     "status": "completed"
    },
    "tags": []
   },
   "outputs": [
    {
     "name": "stdout",
     "output_type": "stream",
     "text": [
      "Model Accuracy with 9 features -\n"
     ]
    },
    {
     "data": {
      "text/plain": [
       "0.8878048780487805"
      ]
     },
     "execution_count": 19,
     "metadata": {},
     "output_type": "execute_result"
    }
   ],
   "source": [
    "print('Model Accuracy with 9 features -')\n",
    "model.score(x_test,y_test)"
   ]
  },
  {
   "cell_type": "markdown",
   "id": "49a91797",
   "metadata": {
    "papermill": {
     "duration": 0.008005,
     "end_time": "2023-04-25T18:26:32.499890",
     "exception": false,
     "start_time": "2023-04-25T18:26:32.491885",
     "status": "completed"
    },
    "tags": []
   },
   "source": [
    "# Conclusion"
   ]
  },
  {
   "cell_type": "code",
   "execution_count": 20,
   "id": "b166edf8",
   "metadata": {
    "execution": {
     "iopub.execute_input": "2023-04-25T18:26:32.518815Z",
     "iopub.status.busy": "2023-04-25T18:26:32.518028Z",
     "iopub.status.idle": "2023-04-25T18:26:33.106467Z",
     "shell.execute_reply": "2023-04-25T18:26:33.105034Z"
    },
    "papermill": {
     "duration": 0.601068,
     "end_time": "2023-04-25T18:26:33.109258",
     "exception": false,
     "start_time": "2023-04-25T18:26:32.508190",
     "status": "completed"
    },
    "tags": []
   },
   "outputs": [],
   "source": [
    "number_of_features = [1,2,3,4,5,6,7,8,9,10,11,12,13]\n",
    "result = []\n",
    "for alpha in number_of_features:\n",
    "    pca = PCA(n_components = alpha)\n",
    "    pca_X = pca.fit_transform(X_scaled)\n",
    "    x_train,x_test,y_train,y_test = train_test_split(pca_X,Y,test_size=0.2,random_state = 10)\n",
    "    model.fit(x_train,y_train)\n",
    "    result.append(model.score(x_test,y_test))\n",
    "    "
   ]
  },
  {
   "cell_type": "code",
   "execution_count": 21,
   "id": "37d45dcb",
   "metadata": {
    "execution": {
     "iopub.execute_input": "2023-04-25T18:26:33.140137Z",
     "iopub.status.busy": "2023-04-25T18:26:33.139090Z",
     "iopub.status.idle": "2023-04-25T18:26:33.148548Z",
     "shell.execute_reply": "2023-04-25T18:26:33.147005Z"
    },
    "papermill": {
     "duration": 0.029303,
     "end_time": "2023-04-25T18:26:33.152507",
     "exception": false,
     "start_time": "2023-04-25T18:26:33.123204",
     "status": "completed"
    },
    "tags": []
   },
   "outputs": [
    {
     "name": "stdout",
     "output_type": "stream",
     "text": [
      "[0.7609756097560976, 0.8, 0.8146341463414634, 0.8439024390243902, 0.8439024390243902, 0.8682926829268293, 0.8682926829268293, 0.8829268292682927, 0.8878048780487805, 0.8926829268292683, 0.8975609756097561, 0.8926829268292683, 0.8926829268292683]\n"
     ]
    }
   ],
   "source": [
    "print(result)"
   ]
  },
  {
   "cell_type": "code",
   "execution_count": 22,
   "id": "62caa2d6",
   "metadata": {
    "execution": {
     "iopub.execute_input": "2023-04-25T18:26:33.184402Z",
     "iopub.status.busy": "2023-04-25T18:26:33.183449Z",
     "iopub.status.idle": "2023-04-25T18:26:33.749400Z",
     "shell.execute_reply": "2023-04-25T18:26:33.748378Z"
    },
    "papermill": {
     "duration": 0.583701,
     "end_time": "2023-04-25T18:26:33.751729",
     "exception": false,
     "start_time": "2023-04-25T18:26:33.168028",
     "status": "completed"
    },
    "tags": []
   },
   "outputs": [
    {
     "data": {
      "text/plain": [
       "Text(0, 0.5, 'Accuracy')"
      ]
     },
     "execution_count": 22,
     "metadata": {},
     "output_type": "execute_result"
    },
    {
     "data": {
      "image/png": "[encoded data removed]",
      "text/plain": [
       "<Figure size 640x480 with 1 Axes>"
      ]
     },
     "metadata": {},
     "output_type": "display_data"
    }
   ],
   "source": [
    "import seaborn as sns\n",
    "sns.lineplot(x=number_of_features,y=result)\n",
    "plt.title('Accuracy vs No. of Features')\n",
    "plt.xlabel('Number of Features')\n",
    "plt.ylabel('Accuracy')"
   ]
  },
  {
   "cell_type": "code",
   "execution_count": null,
   "id": "eb3d1a71",
   "metadata": {
    "papermill": {
     "duration": 0.009399,
     "end_time": "2023-04-25T18:26:33.770636",
     "exception": false,
     "start_time": "2023-04-25T18:26:33.761237",
     "status": "completed"
    },
    "tags": []
   },
   "outputs": [],
   "source": []
  }
 ],
 "metadata": {
  "kernelspec": {
   "display_name": "Python 3",
   "language": "python",
   "name": "python3"
  },
  "language_info": {
   "codemirror_mode": {
    "name": "ipython",
    "version": 3
   },
   "file_extension": ".py",
   "mimetype": "text/x-python",
   "name": "python",
   "nbconvert_exporter": "python",
   "pygments_lexer": "ipython3",
   "version": "3.7.12"
  },
  "papermill": {
   "default_parameters": {},
   "duration": 14.400771,
   "end_time": "2023-04-25T18:26:34.502223",
   "environment_variables": {},
   "exception": null,
   "input_path": "__notebook__.ipynb",
   "output_path": "__notebook__.ipynb",
   "parameters": {},
   "start_time": "2023-04-25T18:26:20.101452",
   "version": "2.4.0"
  }
 },
 "nbformat": 4,
 "nbformat_minor": 5
}
