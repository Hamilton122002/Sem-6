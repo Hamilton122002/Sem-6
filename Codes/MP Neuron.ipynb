{
 "cells": [
  {
   "cell_type": "code",
   "execution_count": 1,
   "id": "081d0150",
   "metadata": {},
   "outputs": [],
   "source": [
    "from tabulate import tabulate"
   ]
  },
  {
   "cell_type": "markdown",
   "id": "c5ec485a",
   "metadata": {},
   "source": [
    "FOR AND GATE"
   ]
  },
  {
   "cell_type": "code",
   "execution_count": 2,
   "id": "722adf6e",
   "metadata": {},
   "outputs": [
    {
     "name": "stdout",
     "output_type": "stream",
     "text": [
      "x1    x2    w1   w2     t     O\n",
      "0     0     1     1     2     0\n",
      "0     1     1     1     2     0\n",
      "1     0     1     1     2     0\n",
      "1     1     1     1     2     1\n"
     ]
    }
   ],
   "source": [
    "x1 = [0, 0, 1, 1]\n",
    "x2 = [0, 1, 0, 1]\n",
    "w1 = [1, 1, 1, 1]\n",
    "w2 = [1, 1, 1, 1]\n",
    "t = 2\n",
    "#output\n",
    "print(\"x1    x2    w1   w2     t     O\")\n",
    "for i in range(len(x1)):\n",
    "    if ( x1[i]*w1[i] + x2[i]*w2[i] ) >= t:\n",
    "        print(x1[i],'   ',x2[i],'   ',w1[i],'   ',w2[i],'   ',t,'   ', 1)\n",
    "    else:\n",
    "        print(x1[i],'   ',x2[i],'   ',w1[i],'   ',w2[i],'   ',t,'   ', 0)"
   ]
  },
  {
   "cell_type": "markdown",
   "id": "14ea135b",
   "metadata": {},
   "source": [
    "FOR OR GATE"
   ]
  },
  {
   "cell_type": "code",
   "execution_count": 5,
   "id": "acf03593",
   "metadata": {},
   "outputs": [
    {
     "name": "stdout",
     "output_type": "stream",
     "text": [
      "x      w     t     O\n",
      "0     -1     0     1\n",
      "1     -1     0     0\n"
     ]
    }
   ],
   "source": [
    "x = [0, 1]\n",
    "w = [-1, -1]\n",
    "t = 0\n",
    "#output\n",
    "print(\"x      w     t     O\")\n",
    "for i in range(len(x)):\n",
    "    if ( x[i]*w[i]) >= t:\n",
    "        print(x[i],'   ',w[i],'   ',t,'   ', 1)\n",
    "    else:\n",
    "        print(x[i],'   ',w[i],'   ',t,'   ', 0)"
   ]
  },
  {
   "cell_type": "markdown",
   "id": "1c7c181a",
   "metadata": {},
   "source": [
    "FOR NAND GATE"
   ]
  },
  {
   "cell_type": "code",
   "execution_count": 4,
   "id": "abd5e66d",
   "metadata": {},
   "outputs": [
    {
     "name": "stdout",
     "output_type": "stream",
     "text": [
      "x1    x2    w1     w2      t     O\n",
      "0     0     -1     -1     -2     1\n",
      "0     1     -1     -1     -2     1\n",
      "1     0     -1     -1     -2     1\n",
      "1     1     -1     -1     -2     0\n"
     ]
    }
   ],
   "source": [
    "x1 = [0, 0, 1, 1]\n",
    "x2 = [0, 1, 0, 1]\n",
    "w1 = [-1, -1, -1, -1]\n",
    "w2 = [-1, -1, -1, -1]\n",
    "t = -2\n",
    "#output\n",
    "print(\"x1    x2    w1     w2      t     O\")\n",
    "for i in range(len(x1)):\n",
    "    if ( x1[i]*w1[i] + x2[i]*w2[i] ) > t:\n",
    "        print(x1[i],'   ',x2[i],'   ',w1[i],'   ',w2[i],'   ',t,'   ', 1)\n",
    "    else:\n",
    "        print(x1[i],'   ',x2[i],'   ',w1[i],'   ',w2[i],'   ',t,'   ', 0)"
   ]
  },
  {
   "cell_type": "markdown",
   "id": "bebc37f3",
   "metadata": {},
   "source": [
    "FOR NOR GATE"
   ]
  },
  {
   "cell_type": "code",
   "execution_count": 6,
   "id": "a23189bf",
   "metadata": {},
   "outputs": [
    {
     "name": "stdout",
     "output_type": "stream",
     "text": [
      "x1    x2    w1   w2     t     O\n",
      "0     0     1     1     0     1\n",
      "0     1     1     1     0     0\n",
      "1     0     1     1     0     0\n",
      "1     1     1     1     0     0\n"
     ]
    }
   ],
   "source": [
    "x1 = [0, 0, 1, 1]\n",
    "x2 = [0, 1, 0, 1]\n",
    "w1 = [1, 1, 1, 1]\n",
    "w2 = [1, 1, 1, 1]\n",
    "t = 0\n",
    "#output\n",
    "print(\"x1    x2    w1   w2     t     O\")\n",
    "for i in range(len(x1)):\n",
    "    if ( x1[i]*w1[i] + x2[i]*w2[i] ) <= t:\n",
    "        print(x1[i],'   ',x2[i],'   ',w1[i],'   ',w2[i],'   ',t,'   ', 1)\n",
    "    else:\n",
    "        print(x1[i],'   ',x2[i],'   ',w1[i],'   ',w2[i],'   ',t,'   ', 0)"
   ]
  },
  {
   "cell_type": "code",
   "execution_count": null,
   "id": "41a146c3",
   "metadata": {},
   "outputs": [],
   "source": []
  }
 ],
 "metadata": {
  "kernelspec": {
   "display_name": "Python 3 (ipykernel)",
   "language": "python",
   "name": "python3"
  },
  "language_info": {
   "codemirror_mode": {
    "name": "ipython",
    "version": 3
   },
   "file_extension": ".py",
   "mimetype": "text/x-python",
   "name": "python",
   "nbconvert_exporter": "python",
   "pygments_lexer": "ipython3",
   "version": "3.9.13"
  }
 },
 "nbformat": 4,
 "nbformat_minor": 5
}
